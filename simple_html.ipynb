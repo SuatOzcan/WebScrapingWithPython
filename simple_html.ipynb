{
 "cells": [
  {
   "cell_type": "code",
   "execution_count": 1,
   "metadata": {},
   "outputs": [],
   "source": [
    "#pip install bs4"
   ]
  },
  {
   "cell_type": "code",
   "execution_count": 2,
   "metadata": {},
   "outputs": [],
   "source": [
    "from bs4 import BeautifulSoup"
   ]
  },
  {
   "cell_type": "code",
   "execution_count": 3,
   "metadata": {},
   "outputs": [],
   "source": [
    "SIMPLE_HTML = '''<html>\n",
    "<head></head>\n",
    "<body>\n",
    "<h1>This is a title</h1>\n",
    "<p class=\"subtitle\">Lorem ipsum dolor sit amet. Consectetur edipiscim elit.</p>\n",
    "<p>Here's another p without a class</p>\n",
    "<ul>\n",
    "    <li>Rolf</li>\n",
    "    <li>Charlie</li>\n",
    "    <li>Jen</li>\n",
    "    <li>Jose</li>\n",
    "</ul>\n",
    "</body>\n",
    "</html>'''"
   ]
  },
  {
   "cell_type": "code",
   "execution_count": 9,
   "metadata": {},
   "outputs": [
    {
     "name": "stdout",
     "output_type": "stream",
     "text": [
      "<html>\n",
      "<head></head>\n",
      "<body>\n",
      "<h1>This is a title</h1>\n",
      "<p class=\"subtitle\">Lorem ipsum dolor sit amet. Consectetur edipiscim elit.</p>\n",
      "<p>Here's another p without a class</p>\n",
      "<ul>\n",
      "<li>Rolf</li>\n",
      "<li>Charlie</li>\n",
      "<li>Jen</li>\n",
      "<li>Jose</li>\n",
      "</ul>\n",
      "</body>\n",
      "</html>\n"
     ]
    }
   ],
   "source": [
    "simple_soup = BeautifulSoup(SIMPLE_HTML, 'html.parser')\n",
    "print(simple_soup)"
   ]
  },
  {
   "cell_type": "code",
   "execution_count": 10,
   "metadata": {},
   "outputs": [
    {
     "data": {
      "text/plain": [
       "bs4.BeautifulSoup"
      ]
     },
     "execution_count": 10,
     "metadata": {},
     "output_type": "execute_result"
    }
   ],
   "source": [
    "type(simple_soup)"
   ]
  },
  {
   "cell_type": "code",
   "execution_count": 11,
   "metadata": {},
   "outputs": [
    {
     "name": "stdout",
     "output_type": "stream",
     "text": [
      "<h1>This is a title</h1>\n"
     ]
    }
   ],
   "source": [
    "print(simple_soup.find('h1'))"
   ]
  },
  {
   "cell_type": "code",
   "execution_count": 12,
   "metadata": {},
   "outputs": [
    {
     "data": {
      "text/plain": [
       "bs4.element.Tag"
      ]
     },
     "execution_count": 12,
     "metadata": {},
     "output_type": "execute_result"
    }
   ],
   "source": [
    "type(simple_soup.find('h1'))"
   ]
  },
  {
   "cell_type": "code",
   "execution_count": 13,
   "metadata": {},
   "outputs": [
    {
     "name": "stdout",
     "output_type": "stream",
     "text": [
      "This is a title\n"
     ]
    }
   ],
   "source": [
    "print(simple_soup.find('h1').string)"
   ]
  },
  {
   "cell_type": "code",
   "execution_count": null,
   "metadata": {},
   "outputs": [
    {
     "data": {
      "text/plain": [
       "bs4.element.NavigableString"
      ]
     },
     "execution_count": 22,
     "metadata": {},
     "output_type": "execute_result"
    }
   ],
   "source": [
    "type(simple_soup.find('h1').string)"
   ]
  },
  {
   "cell_type": "code",
   "execution_count": null,
   "metadata": {},
   "outputs": [
    {
     "name": "stdout",
     "output_type": "stream",
     "text": [
      "This is a title\n"
     ]
    }
   ],
   "source": [
    "h1_tag = simple_soup.find('h1')\n",
    "print(h1_tag.string)"
   ]
  },
  {
   "cell_type": "code",
   "execution_count": 14,
   "metadata": {},
   "outputs": [],
   "source": [
    "def find_title():\n",
    "    h1_tag = simple_soup.find('h1')\n",
    "    print(h1_tag.string)"
   ]
  },
  {
   "cell_type": "code",
   "execution_count": 15,
   "metadata": {},
   "outputs": [
    {
     "name": "stdout",
     "output_type": "stream",
     "text": [
      "This is a title\n"
     ]
    }
   ],
   "source": [
    "find_title()"
   ]
  },
  {
   "cell_type": "code",
   "execution_count": 40,
   "metadata": {},
   "outputs": [],
   "source": [
    "def find_list_items():\n",
    "    list_items = simple_soup.find_all('li')\n",
    "    list_contents = [e.string for e in list_items]\n",
    "    [print(content) for content in list_contents]"
   ]
  },
  {
   "cell_type": "code",
   "execution_count": 41,
   "metadata": {},
   "outputs": [
    {
     "name": "stdout",
     "output_type": "stream",
     "text": [
      "Rolf\n",
      "Charlie\n",
      "Jen\n",
      "Jose\n"
     ]
    }
   ],
   "source": [
    "find_list_items()"
   ]
  },
  {
   "cell_type": "code",
   "execution_count": 46,
   "metadata": {},
   "outputs": [],
   "source": [
    "def find_subtitle():\n",
    "    paragraph = simple_soup.find('p',{'class':'subtitle'})\n",
    "    print(paragraph.string)"
   ]
  },
  {
   "cell_type": "code",
   "execution_count": 47,
   "metadata": {},
   "outputs": [
    {
     "name": "stdout",
     "output_type": "stream",
     "text": [
      "Lorem ipsum dolor sit amet. Consectetur edipiscim elit.\n"
     ]
    }
   ],
   "source": [
    "find_subtitle()"
   ]
  },
  {
   "cell_type": "code",
   "execution_count": null,
   "metadata": {},
   "outputs": [
    {
     "name": "stdout",
     "output_type": "stream",
     "text": [
      "<p class=\"subtitle\">Lorem ipsum dolor sit amet. Consectetur edipiscim elit.</p>\n"
     ]
    }
   ],
   "source": [
    "print(simple_soup.find('p'))"
   ]
  },
  {
   "cell_type": "code",
   "execution_count": 43,
   "metadata": {},
   "outputs": [
    {
     "name": "stdout",
     "output_type": "stream",
     "text": [
      "[<p class=\"subtitle\">Lorem ipsum dolor sit amet. Consectetur edipiscim elit.</p>, <p>Here's another p without a class</p>]\n"
     ]
    }
   ],
   "source": [
    "print(simple_soup.find_all('p'))"
   ]
  },
  {
   "cell_type": "markdown",
   "metadata": {},
   "source": [
    "BeautifulSoup lies attributes as dictionaries."
   ]
  },
  {
   "cell_type": "code",
   "execution_count": 116,
   "metadata": {},
   "outputs": [],
   "source": [
    "def find_the_other_paragraph():\n",
    "    paragraphs = simple_soup.find_all('p')\n",
    "    the_other_paragraph = [p for p in paragraphs if 'subtitle' not in p.attrs.get('class',[])]\n",
    "    the_other_paragraph_string = [s.string for s in the_other_paragraph]\n",
    "    [print(s) for s in the_other_paragraph_string]\n",
    "   "
   ]
  },
  {
   "cell_type": "code",
   "execution_count": 118,
   "metadata": {},
   "outputs": [
    {
     "name": "stdout",
     "output_type": "stream",
     "text": [
      "Here's another p without a class\n",
      "Here's another p without a class\n"
     ]
    }
   ],
   "source": [
    "find_the_other_paragraph()"
   ]
  },
  {
   "cell_type": "code",
   "execution_count": 62,
   "metadata": {},
   "outputs": [
    {
     "name": "stdout",
     "output_type": "stream",
     "text": [
      "<html>\n",
      "<head></head>\n",
      "<body>\n",
      "<h1>This is a title</h1>\n",
      "<p class=\"subtitle\">Lorem ipsum dolor sit amet. Consectetur edipiscim elit.</p>\n",
      "<p>Here's another p without a class</p>\n",
      "<ul>\n",
      "<li>Rolf</li>\n",
      "<li>Charlie</li>\n",
      "<li>Jen</li>\n",
      "<li>Jose</li>\n",
      "</ul>\n",
      "</body>\n",
      "</html>\n"
     ]
    }
   ],
   "source": [
    "print(simple_soup.find('html'))"
   ]
  },
  {
   "cell_type": "code",
   "execution_count": null,
   "metadata": {},
   "outputs": [
    {
     "data": {
      "text/plain": [
       "bs4.element.Tag"
      ]
     },
     "execution_count": 19,
     "metadata": {},
     "output_type": "execute_result"
    }
   ],
   "source": [
    "type(simple_soup.find('h1'))"
   ]
  },
  {
   "cell_type": "code",
   "execution_count": null,
   "metadata": {},
   "outputs": [],
   "source": [
    "def find_title():\n",
    "    h1_tag = simple_soup.find('h1')\n",
    "    print(h1_tag.string)"
   ]
  }
 ],
 "metadata": {
  "kernelspec": {
   "display_name": "Python 3",
   "language": "python",
   "name": "python3"
  },
  "language_info": {
   "codemirror_mode": {
    "name": "ipython",
    "version": 3
   },
   "file_extension": ".py",
   "mimetype": "text/x-python",
   "name": "python",
   "nbconvert_exporter": "python",
   "pygments_lexer": "ipython3",
   "version": "3.9.7"
  },
  "orig_nbformat": 4
 },
 "nbformat": 4,
 "nbformat_minor": 2
}

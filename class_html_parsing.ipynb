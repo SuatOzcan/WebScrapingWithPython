{
 "cells": [
  {
   "cell_type": "code",
   "execution_count": 1,
   "metadata": {},
   "outputs": [],
   "source": [
    "from bs4 import BeautifulSoup\n",
    "import re"
   ]
  },
  {
   "cell_type": "code",
   "execution_count": null,
   "metadata": {},
   "outputs": [],
   "source": [
    "class ParsedItem:\n",
    "    '''A class to take in an HTML page (or a part of it) and find properties of an item in it.'''\n",
    "    def __init__(self, page):\n",
    "        self.soup = BeautifulSoup(page, 'html.parser')\n",
    "\n",
    "    def find_item_name(self):\n",
    "        locator = 'article h3 a' #locator = 'article.product_pod h3 a'\n",
    "        item_link = self.soup.select_one(locator)\n",
    "        item_name = item_link.attrs['title']   #item_link.attrs.get('title')\n",
    "        return(item_name)\n",
    "\n",
    "    def find_item_link(self):\n",
    "        locator = 'article h3 a' #locator = 'article.product_pod h3 a'\n",
    "        item_link = self.soup.select_one(locator)\n",
    "        item_link_string = item_link.attrs['href']   #item_link.attrs.get('title')\n",
    "        return(item_link_string)\n",
    "\n",
    "    def find_item_image_source(self):\n",
    "        locator = 'article div a img' #locator = 'article.product_pod div a img'\n",
    "        item_link = self.soup.select_one(locator)\n",
    "        item_image_source = item_link.attrs['src']   #item_link.attrs.get('title')\n",
    "        return(item_image_source)\n",
    "\n",
    "    def find_item_price(self):\n",
    "        locator = 'article div.product_price p.price_color'\n",
    "        item_price_full = self.soup.select_one(locator).string #£51.77\n",
    "        pattern = '£([0-9]+.[0-9]+)'\n",
    "        matches = re.search(pattern,item_price_full)\n",
    "        item_price_float = float(matches[1])\n",
    "        return item_price_float\n",
    "\n",
    "    def find_item_rating(self):\n",
    "        locator = 'article.product_pod p.star-rating'  #'article.product_pod p.star_rating.Three'\n",
    "        star_rating_tag = self.soup.select_one(locator)\n",
    "        classes = star_rating_tag.attrs['class'] # class order may not be the way it is written in the html file, class order might change.\n",
    "        #rating_classes = [r for r in classes if r != 'star-rating']\n",
    "        rating_classes = filter(lambda x: x != 'star-rating', classes)\n",
    "        return(list(rating_classes))\n"
   ]
  }
 ],
 "metadata": {
  "kernelspec": {
   "display_name": "Python 3",
   "language": "python",
   "name": "python3"
  },
  "language_info": {
   "codemirror_mode": {
    "name": "ipython",
    "version": 3
   },
   "file_extension": ".py",
   "mimetype": "text/x-python",
   "name": "python",
   "nbconvert_exporter": "python",
   "pygments_lexer": "ipython3",
   "version": "3.9.7"
  },
  "orig_nbformat": 4
 },
 "nbformat": 4,
 "nbformat_minor": 2
}

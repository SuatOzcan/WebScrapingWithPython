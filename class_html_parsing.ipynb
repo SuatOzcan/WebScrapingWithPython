{
 "cells": [
  {
   "cell_type": "code",
   "execution_count": 14,
   "metadata": {},
   "outputs": [],
   "source": [
    "from bs4 import BeautifulSoup\n",
    "import re"
   ]
  },
  {
   "cell_type": "code",
   "execution_count": 30,
   "metadata": {},
   "outputs": [],
   "source": [
    "class ParsedItemLocators:\n",
    "    \"\"\"\n",
    "    Locators for an item in the HTML page.\n",
    "\n",
    "    This allows us to easily see what our code will be looking at\n",
    "    as well as change it quickly if we notice it is now different.\n",
    "    \"\"\"\n",
    "    NAME_LOCATOR = 'article.product_pod h3 a'\n",
    "    LINK_LOCATOR = 'article.product_pod h3 a'\n",
    "    PRICE_LOCATOR = 'article.product_pod p.price_color'\n",
    "    RATING_LOCATOR = 'article.product_pod p.star-rating'\n",
    "    IMAGE_LOCATOR = 'article div a img'"
   ]
  },
  {
   "cell_type": "code",
   "execution_count": 26,
   "metadata": {},
   "outputs": [],
   "source": [
    "class ParsedItem:\n",
    "    '''A class to take in an HTML page (or a part of it) and find properties of an item in it.'''\n",
    "    def __init__(self, page):\n",
    "        self.soup = BeautifulSoup(page, 'html.parser')\n",
    "    @property\n",
    "    def name(self):\n",
    "        locator = ParsedItemLocators.NAME_LOCATOR #locator = 'article.product_pod h3 a'\n",
    "        item_link = self.soup.select_one(locator)\n",
    "        item_name = item_link.attrs['title']   #item_link.attrs.get('title')\n",
    "        return(item_name)\n",
    "    @property\n",
    "    def link(self):\n",
    "        locator = ParsedItemLocators.LINK_LOCATOR #locator = 'article.product_pod h3 a'\n",
    "        item_link = self.soup.select_one(locator)\n",
    "        item_link_string = item_link.attrs['href']   #item_link.attrs.get('title')\n",
    "        return(item_link_string)\n",
    "    @property\n",
    "    def image_source(self):\n",
    "        locator = ParsedItemLocators.IMAGE_LOCATOR #locator = 'article.product_pod div a img'\n",
    "        item_link = self.soup.select_one(locator)\n",
    "        item_image_source = item_link.attrs['src']   #item_link.attrs.get('title')\n",
    "        return(item_image_source)\n",
    "    @property\n",
    "    def price(self):\n",
    "        locator = ParsedItemLocators.PRICE_LOCATOR\n",
    "        item_price_full = self.soup.select_one(locator).string #£51.77\n",
    "        pattern = '£([0-9]+.[0-9]+)'\n",
    "        matches = re.search(pattern,item_price_full)\n",
    "        item_price_float = float(matches[1])\n",
    "        return item_price_float\n",
    "    @property\n",
    "    def rating(self):\n",
    "        locator = ParsedItemLocators.RATING_LOCATOR  #'article.product_pod p.star_rating.Three'\n",
    "        star_rating_tag = self.soup.select_one(locator)\n",
    "        classes = star_rating_tag.attrs['class'] # class order may not be the way it is written in the html file, class order might change.\n",
    "        #rating_classes = [r for r in classes if r != 'star-rating']\n",
    "        rating_classes = filter(lambda x: x != 'star-rating', classes)\n",
    "        return(list(rating_classes)[0])\n"
   ]
  },
  {
   "cell_type": "code",
   "execution_count": 17,
   "metadata": {},
   "outputs": [],
   "source": [
    "ITEM_HTML = '''<html><head></head><body>\n",
    "<li class=\"col-xs-6 col-sm-4 col-md-3 col-lg-3\">\n",
    "    <article class=\"product_pod\">\n",
    "            <div class=\"image_container\">\n",
    "                    <a href=\"catalogue/a-light-in-the-attic_1000/index.html\"><img src=\"media/cache/2c/da/2cdad67c44b002e7ead0cc35693c0e8b.jpg\" alt=\"A Light in the Attic\" class=\"thumbnail\"></a>\n",
    "            </div>\n",
    "            <p class=\"star-rating Three\">\n",
    "                <i class=\"icon-star\"></i>\n",
    "                <i class=\"icon-star\"></i>\n",
    "                <i class=\"icon-star\"></i>\n",
    "                <i class=\"icon-star\"></i>\n",
    "                <i class=\"icon-star\"></i>\n",
    "            </p>\n",
    "            <h3><a href=\"catalogue/a-light-in-the-attic_1000/index.html\" title=\"A Light in the Attic\">A Light in the ...</a></h3>\n",
    "            <div class=\"product_price\">\n",
    "                <p class=\"price_color\">£51.77</p>\n",
    "                <p class=\"instock availability\">\n",
    "                    <i class=\"icon-ok\"></i>\n",
    "\n",
    "                        In stock\n",
    "\n",
    "                </p>\n",
    "                 <form>\n",
    "                    <button type=\"submit\" class=\"btn btn-primary btn-block\" data-loading-text=\"Adding...\">Add to basket</button>\n",
    "                </form>\n",
    "            </div>\n",
    "    </article>\n",
    "</li>\n",
    "\n",
    "</body></html>\n",
    "'''"
   ]
  },
  {
   "cell_type": "code",
   "execution_count": 18,
   "metadata": {},
   "outputs": [
    {
     "ename": "NameError",
     "evalue": "name 'IMAGE_LOCATOR' is not defined",
     "output_type": "error",
     "traceback": [
      "\u001b[1;31m---------------------------------------------------------------------------\u001b[0m",
      "\u001b[1;31mNameError\u001b[0m                                 Traceback (most recent call last)",
      "\u001b[1;32mf:\\Python Projeleri\\TheCompletePythonCoursePackt\\Chapter 11 - Web Scraping With Python\\WebScrapingWithPython\\class_html_parsing.ipynb Cell 5\u001b[0m line \u001b[0;36m2\n\u001b[0;32m      <a href='vscode-notebook-cell:/f%3A/Python%20Projeleri/TheCompletePythonCoursePackt/Chapter%2011%20-%20Web%20Scraping%20With%20Python/WebScrapingWithPython/class_html_parsing.ipynb#W3sZmlsZQ%3D%3D?line=0'>1</a>\u001b[0m item \u001b[39m=\u001b[39m ParsedItem(ITEM_HTML)\n\u001b[1;32m----> <a href='vscode-notebook-cell:/f%3A/Python%20Projeleri/TheCompletePythonCoursePackt/Chapter%2011%20-%20Web%20Scraping%20With%20Python/WebScrapingWithPython/class_html_parsing.ipynb#W3sZmlsZQ%3D%3D?line=1'>2</a>\u001b[0m \u001b[39mprint\u001b[39m(item\u001b[39m.\u001b[39;49mimage_source)\n",
      "\u001b[1;32mf:\\Python Projeleri\\TheCompletePythonCoursePackt\\Chapter 11 - Web Scraping With Python\\WebScrapingWithPython\\class_html_parsing.ipynb Cell 5\u001b[0m line \u001b[0;36m1\n\u001b[0;32m     <a href='vscode-notebook-cell:/f%3A/Python%20Projeleri/TheCompletePythonCoursePackt/Chapter%2011%20-%20Web%20Scraping%20With%20Python/WebScrapingWithPython/class_html_parsing.ipynb#W3sZmlsZQ%3D%3D?line=16'>17</a>\u001b[0m \u001b[39m@property\u001b[39m\n\u001b[0;32m     <a href='vscode-notebook-cell:/f%3A/Python%20Projeleri/TheCompletePythonCoursePackt/Chapter%2011%20-%20Web%20Scraping%20With%20Python/WebScrapingWithPython/class_html_parsing.ipynb#W3sZmlsZQ%3D%3D?line=17'>18</a>\u001b[0m \u001b[39mdef\u001b[39;00m \u001b[39mimage_source\u001b[39m(\u001b[39mself\u001b[39m):\n\u001b[1;32m---> <a href='vscode-notebook-cell:/f%3A/Python%20Projeleri/TheCompletePythonCoursePackt/Chapter%2011%20-%20Web%20Scraping%20With%20Python/WebScrapingWithPython/class_html_parsing.ipynb#W3sZmlsZQ%3D%3D?line=18'>19</a>\u001b[0m     locator \u001b[39m=\u001b[39m IMAGE_LOCATOR \u001b[39m#locator = 'article.product_pod div a img'\u001b[39;00m\n\u001b[0;32m     <a href='vscode-notebook-cell:/f%3A/Python%20Projeleri/TheCompletePythonCoursePackt/Chapter%2011%20-%20Web%20Scraping%20With%20Python/WebScrapingWithPython/class_html_parsing.ipynb#W3sZmlsZQ%3D%3D?line=19'>20</a>\u001b[0m     item_link \u001b[39m=\u001b[39m \u001b[39mself\u001b[39m\u001b[39m.\u001b[39msoup\u001b[39m.\u001b[39mselect_one(locator)\n\u001b[0;32m     <a href='vscode-notebook-cell:/f%3A/Python%20Projeleri/TheCompletePythonCoursePackt/Chapter%2011%20-%20Web%20Scraping%20With%20Python/WebScrapingWithPython/class_html_parsing.ipynb#W3sZmlsZQ%3D%3D?line=20'>21</a>\u001b[0m     item_image_source \u001b[39m=\u001b[39m item_link\u001b[39m.\u001b[39mattrs[\u001b[39m'\u001b[39m\u001b[39msrc\u001b[39m\u001b[39m'\u001b[39m]   \u001b[39m#item_link.attrs.get('title')\u001b[39;00m\n",
      "\u001b[1;31mNameError\u001b[0m: name 'IMAGE_LOCATOR' is not defined"
     ]
    }
   ],
   "source": [
    "item = ParsedItem(ITEM_HTML)\n",
    "print(item.image_source)"
   ]
  }
 ],
 "metadata": {
  "kernelspec": {
   "display_name": "Python 3",
   "language": "python",
   "name": "python3"
  },
  "language_info": {
   "codemirror_mode": {
    "name": "ipython",
    "version": 3
   },
   "file_extension": ".py",
   "mimetype": "text/x-python",
   "name": "python",
   "nbconvert_exporter": "python",
   "pygments_lexer": "ipython3",
   "version": "3.9.7"
  },
  "orig_nbformat": 4
 },
 "nbformat": 4,
 "nbformat_minor": 2
}

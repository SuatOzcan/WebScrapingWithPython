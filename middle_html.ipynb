{
 "cells": [
  {
   "cell_type": "code",
   "execution_count": 212,
   "metadata": {},
   "outputs": [],
   "source": [
    "from bs4 import BeautifulSoup"
   ]
  },
  {
   "cell_type": "code",
   "execution_count": 213,
   "metadata": {},
   "outputs": [],
   "source": [
    "import re"
   ]
  },
  {
   "cell_type": "code",
   "execution_count": 214,
   "metadata": {},
   "outputs": [],
   "source": [
    "ITEM_HTML = '''<html><head></head><body>\n",
    "<li class=\"col-xs-6 col-sm-4 col-md-3 col-lg-3\">\n",
    "    <article class=\"product_pod\">\n",
    "            <div class=\"image_container\">\n",
    "                    <a href=\"catalogue/a-light-in-the-attic_1000/index.html\"><img src=\"media/cache/2c/da/2cdad67c44b002e7ead0cc35693c0e8b.jpg\" alt=\"A Light in the Attic\" class=\"thumbnail\"></a>\n",
    "            </div>\n",
    "            <p class=\"star-rating Three\">\n",
    "                <i class=\"icon-star\"></i>\n",
    "                <i class=\"icon-star\"></i>\n",
    "                <i class=\"icon-star\"></i>\n",
    "                <i class=\"icon-star\"></i>\n",
    "                <i class=\"icon-star\"></i>\n",
    "            </p>\n",
    "            <h3><a href=\"catalogue/a-light-in-the-attic_1000/index.html\" title=\"A Light in the Attic\">A Light in the ...</a></h3>\n",
    "            <div class=\"product_price\">\n",
    "                <p class=\"price_color\">£51.77</p>\n",
    "                <p class=\"instock availability\">\n",
    "                    <i class=\"icon-ok\"></i>\n",
    "\n",
    "                        In stock\n",
    "\n",
    "                </p>\n",
    "                 <form>\n",
    "                    <button type=\"submit\" class=\"btn btn-primary btn-block\" data-loading-text=\"Adding...\">Add to basket</button>\n",
    "                </form>\n",
    "            </div>\n",
    "    </article>\n",
    "</li>\n",
    "\n",
    "</body></html>\n",
    "'''"
   ]
  },
  {
   "cell_type": "code",
   "execution_count": 215,
   "metadata": {},
   "outputs": [],
   "source": [
    "soup = BeautifulSoup(ITEM_HTML, 'html.parser')"
   ]
  },
  {
   "cell_type": "code",
   "execution_count": 216,
   "metadata": {},
   "outputs": [],
   "source": [
    "def find_item_name():\n",
    "    locator = 'article h3 a' #locator = 'article.product_pod h3 a'\n",
    "    item_link = soup.select_one(locator)\n",
    "    item_name = item_link.attrs['title']   #item_link.attrs.get('title')\n",
    "    print(item_name)\n"
   ]
  },
  {
   "cell_type": "code",
   "execution_count": 217,
   "metadata": {},
   "outputs": [
    {
     "name": "stdout",
     "output_type": "stream",
     "text": [
      "A Light in the Attic\n"
     ]
    }
   ],
   "source": [
    "find_item_name()"
   ]
  },
  {
   "cell_type": "code",
   "execution_count": 206,
   "metadata": {},
   "outputs": [
    {
     "data": {
      "text/plain": [
       "['A Light in the ...']"
      ]
     },
     "execution_count": 206,
     "metadata": {},
     "output_type": "execute_result"
    }
   ],
   "source": [
    "list(item_name)"
   ]
  },
  {
   "cell_type": "code",
   "execution_count": 183,
   "metadata": {},
   "outputs": [],
   "source": [
    "def find_item_link():\n",
    "    locator = 'article h3 a' #locator = 'article.product_pod h3 a'\n",
    "    item_link = soup.select_one(locator)\n",
    "    \n",
    "    item_link_string = item_link.attrs['href'] #item_link.attrs.get('title')  item_link_string = item_link.attrs['href']\n",
    "    print(item_link_string)"
   ]
  },
  {
   "cell_type": "code",
   "execution_count": 184,
   "metadata": {},
   "outputs": [
    {
     "name": "stdout",
     "output_type": "stream",
     "text": [
      "catalogue/a-light-in-the-attic_1000/index.html\n"
     ]
    }
   ],
   "source": [
    "find_item_link()"
   ]
  },
  {
   "cell_type": "code",
   "execution_count": 122,
   "metadata": {},
   "outputs": [],
   "source": [
    "def find_item_image_source():\n",
    "    locator = 'article div a img' #locator = 'article.product_pod div a img'\n",
    "    item_link = soup.select_one(locator)\n",
    "    item_image_source = item_link.attrs['src']   #item_link.attrs.get('title')\n",
    "    print(item_image_source)"
   ]
  },
  {
   "cell_type": "code",
   "execution_count": 123,
   "metadata": {},
   "outputs": [
    {
     "name": "stdout",
     "output_type": "stream",
     "text": [
      "media/cache/2c/da/2cdad67c44b002e7ead0cc35693c0e8b.jpg\n"
     ]
    }
   ],
   "source": [
    "find_item_image_source()"
   ]
  },
  {
   "cell_type": "code",
   "execution_count": 124,
   "metadata": {},
   "outputs": [],
   "source": [
    "def find_item_price():\n",
    "    locator = 'article div.product_price p.price_color'\n",
    "    item_price_full = soup.select_one(locator).string #£51.77\n",
    "    expression = '[0-9]*\\.[0-9]*'\n",
    "    item_price_only_numbers = re.findall(expression, item_price_full)\n",
    "    item_price_float = float(item_price_only_numbers[0])\n",
    "    print(item_price_float)\n",
    "    return item_price_float"
   ]
  },
  {
   "cell_type": "code",
   "execution_count": 125,
   "metadata": {},
   "outputs": [
    {
     "name": "stdout",
     "output_type": "stream",
     "text": [
      "51.77\n"
     ]
    },
    {
     "data": {
      "text/plain": [
       "51.77"
      ]
     },
     "execution_count": 125,
     "metadata": {},
     "output_type": "execute_result"
    }
   ],
   "source": [
    "find_item_price()"
   ]
  },
  {
   "cell_type": "code",
   "execution_count": 126,
   "metadata": {},
   "outputs": [],
   "source": [
    "def find_item_price():\n",
    "    locator = 'article div.product_price p.price_color'\n",
    "    item_price_full = soup.select_one(locator).string #£51.77\n",
    "    pattern = '£([0-9]+.[0-9]+)'\n",
    "    matches = re.search(pattern,item_price_full)\n",
    "    print(matches[0])\n",
    "    print(matches[1])\n",
    "    item_price_float = float(matches[1])\n",
    "    return item_price_float"
   ]
  },
  {
   "cell_type": "code",
   "execution_count": 127,
   "metadata": {},
   "outputs": [
    {
     "name": "stdout",
     "output_type": "stream",
     "text": [
      "£51.77\n",
      "51.77\n"
     ]
    },
    {
     "data": {
      "text/plain": [
       "51.77"
      ]
     },
     "execution_count": 127,
     "metadata": {},
     "output_type": "execute_result"
    }
   ],
   "source": [
    "find_item_price()"
   ]
  },
  {
   "cell_type": "code",
   "execution_count": 128,
   "metadata": {},
   "outputs": [],
   "source": [
    "def find_item_rating():\n",
    "    locator = 'article.product_pod p.star-rating'  #'article.product_pod p.star_rating.Three'\n",
    "    star_rating_tag = soup.select_one(locator)\n",
    "    classes = star_rating_tag.attrs['class'] # class order may not be the way it is written in the html file, class order might change.\n",
    "    #rating_classes = [r for r in classes if r != 'star-rating']\n",
    "    rating_classes = filter(lambda x: x != 'star-rating', classes)\n",
    "    print(list(rating_classes)[0])"
   ]
  },
  {
   "cell_type": "code",
   "execution_count": 129,
   "metadata": {},
   "outputs": [
    {
     "name": "stdout",
     "output_type": "stream",
     "text": [
      "Three\n"
     ]
    }
   ],
   "source": [
    "find_item_rating()"
   ]
  }
 ],
 "metadata": {
  "kernelspec": {
   "display_name": "Python 3",
   "language": "python",
   "name": "python3"
  },
  "language_info": {
   "codemirror_mode": {
    "name": "ipython",
    "version": 3
   },
   "file_extension": ".py",
   "mimetype": "text/x-python",
   "name": "python",
   "nbconvert_exporter": "python",
   "pygments_lexer": "ipython3",
   "version": "3.9.7"
  },
  "orig_nbformat": 4
 },
 "nbformat": 4,
 "nbformat_minor": 2
}
